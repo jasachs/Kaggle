{
 "cells": [
  {
   "cell_type": "code",
   "execution_count": 18,
   "metadata": {},
   "outputs": [],
   "source": [
    "import pandas as pd\n",
    "import numpy as np\n",
    "\n",
    "df=pd.read_csv('train.csv')\n"
   ]
  },
  {
   "cell_type": "code",
   "execution_count": 19,
   "metadata": {},
   "outputs": [],
   "source": [
    "#Data Engineering\n",
    "\n",
    "df['Title']=df['Name'].str.extract(r'(Mr|Mrs|Miss|Dr|Master|Don|Rev|Ms|Major|Col|Capt|Mme|Mlle|Countess|Jonkheer)')\n",
    "def GroupTitle(X):\n",
    "    #if X['Title'] in ['Miss','Ms']:\n",
    "       # y='Miss'\n",
    "    if X['Title'] in ['Mme','Mlle','Countess','Don','Master','Major','Col','Capt','Jonkheer']:\n",
    "        y='Nobility'\n",
    "    elif X['Title'] in ['Dr','Rev']:\n",
    "        y='Prof'\n",
    "    else:\n",
    "        y='Pleb' #X['Title']\n",
    "    return y\n",
    " #Consider grouping Mr, Mrs, Miss all together too - any information would be held in sex and age       \n",
    "df['GTitle']=df.apply(GroupTitle,axis=1)\n",
    "df['FamilySize'] = df['Parch'] + df['SibSp'] + 1\n",
    "df['Cabin']=df['Cabin'].to_string()\n",
    "df['Cabin1']=df['Cabin'].map(lambda x: x[0])\n"
   ]
  },
  {
   "cell_type": "code",
   "execution_count": 20,
   "metadata": {},
   "outputs": [
    {
     "name": "stderr",
     "output_type": "stream",
     "text": [
      "/anaconda3/envs/Enviro_Tensor_Flow/lib/python3.6/site-packages/sklearn/utils/deprecation.py:58: DeprecationWarning: Class Imputer is deprecated; Imputer was deprecated in version 0.20 and will be removed in 0.22. Import impute.SimpleImputer from sklearn instead.\n",
      "  warnings.warn(msg, category=DeprecationWarning)\n",
      "/anaconda3/envs/Enviro_Tensor_Flow/lib/python3.6/site-packages/sklearn/linear_model/logistic.py:433: FutureWarning: Default solver will be changed to 'lbfgs' in 0.22. Specify a solver to silence this warning.\n",
      "  FutureWarning)\n"
     ]
    },
    {
     "data": {
      "text/plain": [
       "VotingClassifier(estimators=[('lr', LogisticRegression(C=1.0, class_weight=None, dual=False, fit_intercept=True,\n",
       "          intercept_scaling=1, max_iter=100, multi_class='warn',\n",
       "          n_jobs=None, penalty='l2', random_state=None, solver='warn',\n",
       "          tol=0.0001, verbose=0, warm_start=False)), ('rf', RandomFo...ne,\n",
       "            splitter='best'),\n",
       "          learning_rate=0.5, n_estimators=10, random_state=None))],\n",
       "         flatten_transform=None, n_jobs=None, voting='soft', weights=None)"
      ]
     },
     "execution_count": 20,
     "metadata": {},
     "output_type": "execute_result"
    }
   ],
   "source": [
    "from sklearn.preprocessing import OneHotEncoder, Imputer, MinMaxScaler\n",
    "from sklearn.base import BaseEstimator, TransformerMixin\n",
    "from sklearn.pipeline import FeatureUnion, Pipeline\n",
    "from sklearn.svm import SVC\n",
    "from sklearn.ensemble import RandomForestClassifier, VotingClassifier, AdaBoostClassifier\n",
    "from sklearn.linear_model import LogisticRegression\n",
    "from sklearn.tree import DecisionTreeClassifier\n",
    "\n",
    "y=df['Survived']\n",
    "cat_attrib= ['Sex','Pclass','Embarked','GTitle','Cabin1']\n",
    "num_attrib= ['Age','Fare','SibSp','Parch','FamilySize']\n",
    "df['Embarked'].fillna('S',inplace=True)\n",
    "\n",
    "class DataFrameSelector(BaseEstimator, TransformerMixin):\n",
    "    def __init__(self, attribute_names):\n",
    "        self.attribute_names=attribute_names\n",
    "    def fit(self, X, y=None):\n",
    "        return self\n",
    "    def transform(self,X):\n",
    "        return X[self.attribute_names].values\n",
    "\n",
    "\n",
    "num_pipeline=Pipeline([('df_selector',DataFrameSelector(num_attrib)),\n",
    "                       ('imputer', Imputer(strategy='mean')),('MinMax_scaler',MinMaxScaler())])\n",
    "cat_pipeline=Pipeline([('selector',DataFrameSelector(cat_attrib)),\n",
    "                       ('cat_encoder',OneHotEncoder())])\n",
    "full_pipeline=FeatureUnion(transformer_list=[('num_pipe',num_pipeline),('cat_pipe',cat_pipeline)])\n",
    "df_proc=full_pipeline.fit_transform(df)\n",
    "\n",
    "log_clf = LogisticRegression()\n",
    "svc_clf=SVC(kernel='poly',gamma='scale', probability = True)\n",
    "ada_clf = AdaBoostClassifier(DecisionTreeClassifier(max_depth=1),n_estimators=10,algorithm='SAMME.R',\n",
    "                             learning_rate=0.5)\n",
    "rf_clf=RandomForestClassifier(n_estimators=30, max_features = 14,max_depth=14,min_samples_leaf=3,min_samples_split=9, bootstrap = True)\n",
    "voting_clf=VotingClassifier(estimators=[('lr',log_clf),('rf',rf_clf),('svc',svc_clf),('ada',ada_clf)],voting='soft')\n",
    "voting_clf.fit(df_proc,y)\n",
    "\n"
   ]
  },
  {
   "cell_type": "code",
   "execution_count": 22,
   "metadata": {},
   "outputs": [],
   "source": [
    "#Test Data\n",
    "\n",
    "df_test=pd.read_csv('test.csv')\n",
    "df_test['Title']=df_test['Name'].str.extract(r'(Mr|Mrs|Miss|Dr|Master|Don|Rev|Ms|Major|Col|Capt|Mme|Mlle|Countess|Jonkheer)')    \n",
    "df_test['GTitle']=df_test.apply(GroupTitle,axis=1)\n",
    "df_test['FamilySize'] = df_test['Parch'] + df_test['SibSp'] + 1\n",
    "df_test['Cabin']=df_test['Cabin'].to_string()\n",
    "df_test['Cabin1']=df_test['Cabin'].map(lambda x: x[0])\n",
    "\n",
    "df_proc_test=full_pipeline.transform(df_test)\n",
    "ID=pd.Series(df_test['PassengerId'],name='PassengerId')\n",
    "test_Survived = pd.Series(voting_clf.predict(df_proc_test), name=\"Survived\")\n",
    "results = pd.concat([ID,test_Survived],axis=1)\n",
    "results.to_csv(\"titanic_test_results_voting2.csv\",index=False)\n"
   ]
  },
  {
   "cell_type": "code",
   "execution_count": null,
   "metadata": {},
   "outputs": [],
   "source": []
  },
  {
   "cell_type": "code",
   "execution_count": null,
   "metadata": {},
   "outputs": [],
   "source": []
  }
 ],
 "metadata": {
  "kernelspec": {
   "display_name": "Python 3",
   "language": "python",
   "name": "python3"
  },
  "language_info": {
   "codemirror_mode": {
    "name": "ipython",
    "version": 3
   },
   "file_extension": ".py",
   "mimetype": "text/x-python",
   "name": "python",
   "nbconvert_exporter": "python",
   "pygments_lexer": "ipython3",
   "version": "3.7.1"
  }
 },
 "nbformat": 4,
 "nbformat_minor": 2
}
